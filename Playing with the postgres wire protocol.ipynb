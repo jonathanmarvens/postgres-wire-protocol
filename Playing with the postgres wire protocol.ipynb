{
 "cells": [
  {
   "cell_type": "code",
   "execution_count": null,
   "metadata": {
    "collapsed": false,
    "slideshow": {
     "slide_type": "fragment"
    }
   },
   "outputs": [],
   "source": [
    "import socket\n",
    "from struct import pack\n",
    "\n",
    "socket_file = \"/run/postgresql/.s.PGSQL.5432\""
   ]
  },
  {
   "cell_type": "code",
   "execution_count": null,
   "metadata": {
    "collapsed": false,
    "slideshow": {
     "slide_type": "fragment"
    }
   },
   "outputs": [],
   "source": [
    "sock = socket.socket(socket.AF_UNIX, socket.SOCK_STREAM)\n",
    "sock.connect(socket_file)\n",
    "sock.settimeout(1)"
   ]
  },
  {
   "cell_type": "code",
   "execution_count": null,
   "metadata": {
    "collapsed": false
   },
   "outputs": [],
   "source": [
    "print(sock.send(b\"???\"))\n",
    "print(sock.recv(1000))"
   ]
  },
  {
   "cell_type": "markdown",
   "metadata": {
    "slideshow": {
     "slide_type": "slide"
    }
   },
   "source": [
    "## Encoding raw bytes\n",
    "\n",
    "We are going to need to use `pack` from the `struct` package.\n",
    "\n",
    "> `pack(fmt, v1, v2, ...) -> bytes`\n",
    "> \n",
    "> Return a `bytes` object containing the values `v1`, `v2`, ... packed according to the format string `fmt`.\n",
    "\n",
    "So, let's consider the right [format string](https://docs.python.org/3.5/library/struct.html#byte-order-size-and-alignment):\n",
    "\n",
    "> [T]he first character of the format string can be used to indicate the byte order, size and alignment of the packed data, according to the following table:\n",
    "> \n",
    "> | Character | Byte order             | Size     | Alignment |\n",
    "> |:---------:| ---------------------- | -------- | --------- |\n",
    "> | `@`         | native                 | native   | native    |\n",
    "> | `=`         | native                 | standard | none      |\n",
    "> | `<`         | little-endian          | standard | none      |\n",
    "> | `>`        | big-endian             | standard | none      |\n",
    "> | `!`        | network (= big-endian) | standard | none      |\n",
    "\n",
    "Network seems like a good choice!\n",
    "\n",
    "Then actual format characters can be chosen from [a long list](https://docs.python.org/3.5/library/struct.html#format-characters), but we know we only care about 32 bit (4 byte) and 16 bit (2 byte) integers:\n",
    "\n",
    "> | Character | C Type    | Python type | Standard size\n",
    "> |:---------:| :----------------------: | :--------: | :---------:|\n",
    "> | ... |\t... |\t... |\t... |\n",
    "> | `h` |\tshort |\tinteger |\t2 |\n",
    "> | ... |\t... |\t... |\t... |\n",
    "> | `l` |\tlong |\tinteger |\t4 |\n",
    "> | ... |\t... |\t... |\t... |"
   ]
  },
  {
   "cell_type": "markdown",
   "metadata": {
    "slideshow": {
     "slide_type": "slide"
    }
   },
   "source": [
    "## Opening a connection\n",
    "\n",
    "From the [Postgres documentation on message formats](https://www.postgresql.org/docs/current/static/protocol-message-formats.html):\n",
    "\n",
    "**StartupMessage**\n",
    "\n",
    "* `Int32`\n",
    "\n",
    "    Length of message contents in bytes, including self.\n",
    "\n",
    "\n",
    "\n",
    "* `Int32(196608)`\n",
    "\n",
    "    The protocol version number. The most significant 16 bits are the major version number (3 for the protocol described here). The least significant 16 bits are the minor version number (0 for the protocol described here).\n",
    "\n",
    "The protocol version number is followed by one or more pairs of parameter name and value strings. A zero byte is required as a terminator after the last name/value pair. Parameters can appear in any order. user is required, others are optional. Each parameter is specified as:\n",
    "\n",
    "* `String`\n",
    "\n",
    "    The parameter name. Currently recognized names are:\n",
    "\n",
    "  * `user`\n",
    "  \n",
    "    The database user name to connect as. Required; there is no default.\n",
    "\n",
    "  * `database`\n",
    "    \n",
    "    The database to connect to. Defaults to the user name.\n",
    "\n",
    "  * `options`\n",
    "    \n",
    "    Command-line arguments for the backend. (This is deprecated in favor of setting individual run-time parameters.) Spaces within this string are considered to separate arguments, unless escaped with a backslash (\\); write \\\\ to represent a literal backslash.\n",
    "\n",
    "    In addition to the above, any run-time parameter that can be set at backend start time might be listed. Such settings will be applied during backend start (after parsing the command-line arguments if any). The values will act as session defaults.\n",
    "\n",
    "* `String`\n",
    "\n",
    "    The parameter value.\n",
    "\n",
    "**Of course, it's never quite so simple.**\n",
    "\n",
    "I ended up starting Wireshark and a connection over the loopback interface (`psql -h 127.0.0.1`) to figure out what the message format actually looks like. Strings are null (0x00) terminated, and in addition the startup message is terminated by a null byte (but other messages aren't)."
   ]
  },
  {
   "cell_type": "code",
   "execution_count": null,
   "metadata": {
    "collapsed": false,
    "slideshow": {
     "slide_type": "slide"
    }
   },
   "outputs": [],
   "source": [
    "startup_message = b\"user\\0peitho\\0\\0\"\n",
    "\n",
    "# startup_params = {\n",
    "#     b\"user\": b\"peitho\",\n",
    "#     b\"application_name\": b\"just messing around\",\n",
    "#     b\"client_encoding\": b\"UTF8\",\n",
    "# }\n",
    "# startup_message = b\"\"\n",
    "# for k, v in startup_params.items():\n",
    "#     startup_message += k + b\"\\0\" + v + b\"\\0\"\n",
    "# startup_message += b\"\\0\"\n",
    "\n",
    "version_string = pack(\"!l\", 196608)\n",
    "length = pack(\"!l\", len(startup_message) + len(version_string) + 4)\n",
    "\n",
    "sock.send(length + version_string + startup_message)  # Returns the number of bytes written to the socket"
   ]
  },
  {
   "cell_type": "code",
   "execution_count": null,
   "metadata": {
    "collapsed": false,
    "slideshow": {
     "slide_type": "fragment"
    }
   },
   "outputs": [],
   "source": [
    "data = sock.recv(1000) # Get (up to) 1000 bytes of data\n",
    "data"
   ]
  },
  {
   "cell_type": "code",
   "execution_count": null,
   "metadata": {
    "collapsed": false,
    "slideshow": {
     "slide_type": "fragment"
    }
   },
   "outputs": [],
   "source": [
    "data.split(b\"\\0\") # That's ugly, let's see if we can make it a little more readable..."
   ]
  },
  {
   "cell_type": "markdown",
   "metadata": {
    "slideshow": {
     "slide_type": "slide"
    }
   },
   "source": [
    "## Making things easier\n",
    "\n",
    "Let's build some utility functions for sending and receiving.\n",
    "\n",
    "Most messages have this structure:\n",
    "\n",
    "* Byte1\n",
    "\n",
    "  Identifies the message type by a one-byte ASCII code.\n",
    "\n",
    "\n",
    "* Int32\n",
    "  \n",
    "  Length of message contents in bytes, including self.\n",
    "\n",
    "\n",
    "* Payload data (could be basically anything)"
   ]
  },
  {
   "cell_type": "code",
   "execution_count": null,
   "metadata": {
    "collapsed": true,
    "slideshow": {
     "slide_type": "fragment"
    }
   },
   "outputs": [],
   "source": [
    "def recv(n=1000):\n",
    "    \"\"\"Receive n (default 1000) bytes on the socket\"\"\"\n",
    "    return list(filter(lambda x: x != b\"\", sock.recv(n).split(b\"\\0\")))\n",
    "#     return sock.recv(n).split(b\"\\0\")\n",
    "\n",
    "def send(identifier, msg):\n",
    "    \"\"\"Send a postgres identifier + length + message message. This adds the length field.\"\"\"\n",
    "    # The message length *excludes* the length of the code\n",
    "    # but includes 4 bytes for the length of the message length field.\n",
    "    \n",
    "    print(identifier + pack(\"!l\", 4 + len(msg) + 1) + msg + b\"\\0\")  # for debugging\n",
    "    return sock.send(identifier + pack(\"!l\", 4 + len(msg)) + msg)"
   ]
  },
  {
   "cell_type": "code",
   "execution_count": null,
   "metadata": {
    "collapsed": false,
    "slideshow": {
     "slide_type": "slide"
    }
   },
   "outputs": [],
   "source": [
    "send(b\"Q\", b\"CREATE TEMPORARY TABLE my_temp_table (id SERIAL, data TEXT);\\0\")\n",
    "recv()"
   ]
  },
  {
   "cell_type": "code",
   "execution_count": null,
   "metadata": {
    "collapsed": false,
    "slideshow": {
     "slide_type": "fragment"
    }
   },
   "outputs": [],
   "source": [
    "send(b\"Q\", b\"\"\"INSERT INTO my_temp_table (data) VALUES\n",
    "    ('Oooh'),\n",
    "    ('Ahhh'),\n",
    "    ('RC presentations are pretty cool right? We get to share some awesome information on stuff we would never do outside of RC.');\n",
    "\\0\"\"\")\n",
    "recv()"
   ]
  },
  {
   "cell_type": "code",
   "execution_count": null,
   "metadata": {
    "collapsed": false,
    "slideshow": {
     "slide_type": "fragment"
    }
   },
   "outputs": [],
   "source": [
    "send(b\"Q\", b\"SELECT id, data FROM my_temp_table;\\0\")\n",
    "recv()"
   ]
  },
  {
   "cell_type": "markdown",
   "metadata": {
    "slideshow": {
     "slide_type": "slide"
    }
   },
   "source": [
    "## Paramaterized queries\n",
    "**Parse**\n",
    "\n",
    "* Byte1('P')\n",
    "\n",
    "  Identifies the message as a Parse command.\n",
    "\n",
    "\n",
    "* Int32\n",
    "  \n",
    "  Length of message contents in bytes, including self.\n",
    "\n",
    "\n",
    "* String\n",
    "  \n",
    "  The name of the destination prepared statement (an empty string selects the unnamed prepared statement).\n",
    "\n",
    "\n",
    "* String\n",
    "  \n",
    "  The query string to be parsed.\n",
    "\n",
    "\n",
    "* Int16\n",
    "\n",
    "  The number of parameter data types specified (can be zero). Note that this is not an indication of the number of parameters that might appear in the query string, only the number that the frontend wants to prespecify types for.\n",
    "\n",
    "Then, for each parameter, there is the following:\n",
    "\n",
    "* Int32\n",
    "  \n",
    "  Specifies the object ID of the parameter data type. Placing a zero here is equivalent to leaving the type unspecified.\n",
    "\n",
    "\n",
    "**Bind**\n",
    "\n",
    "* Byte1('B')\n",
    "\n",
    "  Identifies the message as a Bind command.\n",
    "\n",
    "\n",
    "* Int32\n",
    "  \n",
    "  Length of message contents in bytes, including self.\n",
    "\n",
    "\n",
    "* String\n",
    "\n",
    "  The name of the destination portal (an empty string selects the unnamed portal).\n",
    "\n",
    "\n",
    "* String\n",
    "  \n",
    "  The name of the source prepared statement (an empty string selects the unnamed prepared statement).\n",
    "\n",
    "\n",
    "* Int16\n",
    "  \n",
    "  The number of parameter format codes that follow (denoted C below). This can be zero to indicate that there are no parameters or that the parameters all use the default format (text); or one, in which case the specified format code is applied to all parameters; or it can equal the actual number of parameters.\n",
    "\n",
    "\n",
    "* Int16[C]\n",
    "  \n",
    "  The parameter format codes. Each must presently be zero (text) or one (binary).\n",
    "\n",
    "\n",
    "* Int16\n",
    "  \n",
    "  The number of parameter values that follow (possibly zero). This must match the number of parameters needed by the query.\n",
    "\n",
    "Next, the following pair of fields appear for each parameter:\n",
    "\n",
    "* Int32\n",
    "\n",
    "  The length of the parameter value, in bytes (this count does not include itself). Can be zero. As a special case, -1 indicates a NULL parameter value. No value bytes follow in the NULL case.\n",
    "\n",
    "\n",
    "* Byte ***n*** (*exactly n bytes*)\n",
    "  \n",
    "  The value of the parameter, in the format indicated by the associated format code. n is the above length.\n",
    "\n",
    "After the last parameter, the following fields appear:\n",
    "\n",
    "* Int16\n",
    "\n",
    "  The number of result-column format codes that follow (denoted R below). This can be zero to indicate that there are no result columns or that the result columns should all use the default format (text); or one, in which case the specified format code is applied to all result columns (if any); or it can equal the actual number of result columns of the query.\n",
    "\n",
    "\n",
    "* Int16[R]\n",
    "\n",
    "  The result-column format codes. Each must presently be zero (text) or one (binary).\n",
    "\n",
    "**Sync**\n",
    "\n",
    "* Byte1('S')\n",
    "  \n",
    "  Identifies the message as a Sync command.\n",
    "\n",
    "\n",
    "* Int32(4)\n",
    "\n",
    "  Length of message contents in bytes, including self.\n",
    "\n",
    "\n",
    "**ParseComplete** (*Response message type*)\n",
    "\n",
    "* Byte1('1')\n",
    "\n",
    "  Identifies the message as a Parse-complete indicator.\n",
    "\n",
    "\n",
    "* Int32(4)\n",
    "  \n",
    "  Length of message contents in bytes, including self.\n",
    "\n",
    "\n",
    "**ReadyForQuery** (*Response message type*)\n",
    "\n",
    "* Byte1('Z')\n",
    "  \n",
    "  Identifies the message type. ReadyForQuery is sent whenever the backend is ready for a new query cycle.\n",
    "\n",
    "\n",
    "* Int32(4) (*NB documentation claims this is 5 bytes but is lying*)\n",
    "\n",
    "  Length of message contents in bytes, including self.\n",
    "\n",
    "\n",
    "* Byte1\n",
    "\n",
    "  Current backend transaction status indicator. Possible values are 'I' if idle (not in a transaction block); 'T' if in a transaction block; or 'E' if in a failed transaction block (queries will be rejected until block is ended).\n"
   ]
  },
  {
   "cell_type": "code",
   "execution_count": null,
   "metadata": {
    "collapsed": false,
    "slideshow": {
     "slide_type": "slide"
    }
   },
   "outputs": [],
   "source": [
    "# Prepare a query\n",
    "send(b\"P\",\n",
    "     b\"\\0SELECT id, data FROM my_temp_table WHERE id = $1;\\0\" +\n",
    "         pack(\"!h\", 0))\n",
    "\n",
    "# Bind paramter\n",
    "send(b\"B\", \n",
    "     b\"\\0\" +         # portal name\n",
    "     b\"\\0\" +         # query name\n",
    "     pack(\"!h\", 1) + # number of paramater format codes that follow\n",
    "     pack(\"!h\", 1) + # 1st paramter format code: 1 = binary, 0 = string (UTF8 encoding)\n",
    "     pack(\"!h\", 1) + # number of paramater values that follow\n",
    "     pack(\"!l\", 4) + # the length of the 1st paramter value (excluding this length specifier)\n",
    "     pack(\"!l\", 1) + # the 1st paramater value (1 as an integer)\n",
    "     pack(\"!h\", 0))  # the number of result column format codes that follow\n",
    "\n",
    "# Execute the query\n",
    "send(b\"E\", b\"\\0\" + pack(\"!l\", 0))\n",
    "\n",
    "# Bind paramter\n",
    "send(b\"B\", \n",
    "     b\"\\0\" +         # portal name\n",
    "     b\"\\0\" +         # query name\n",
    "     pack(\"!h\", 1) + # number of paramater format codes that follow\n",
    "     pack(\"!h\", 1) + # 1st paramter format code: 1 = binary, 0 = string (UTF8 encoding)\n",
    "     pack(\"!h\", 1) + # number of paramater values that follow\n",
    "     pack(\"!l\", 4) + # the length of the 1st paramter value (excluding this length specifier)\n",
    "     pack(\"!l\", 3) + # the 1st paramater value (3 as an integer)\n",
    "     pack(\"!h\", 0))  # the number of result column format codes that follow\n",
    "\n",
    "# Execute the query\n",
    "send(b\"E\", b\"\\0\" + pack(\"!l\", 0))\n",
    "\n",
    "# Sync and receive the data\n",
    "send(b\"S\", b\"\")\n",
    "recv()\n"
   ]
  },
  {
   "cell_type": "code",
   "execution_count": null,
   "metadata": {
    "collapsed": false,
    "slideshow": {
     "slide_type": "slide"
    }
   },
   "outputs": [],
   "source": [
    "send(b\"S\", b\"\")\n",
    "recv()"
   ]
  },
  {
   "cell_type": "code",
   "execution_count": null,
   "metadata": {
    "collapsed": false,
    "slideshow": {
     "slide_type": "fragment"
    }
   },
   "outputs": [],
   "source": [
    "send(b\"X\", b\"\") # Terminate\n",
    "recv()"
   ]
  },
  {
   "cell_type": "code",
   "execution_count": null,
   "metadata": {
    "collapsed": true,
    "slideshow": {
     "slide_type": "fragment"
    }
   },
   "outputs": [],
   "source": [
    "sock.close()\n",
    "del sock"
   ]
  }
 ],
 "metadata": {
  "kernelspec": {
   "display_name": "Python 3",
   "language": "python",
   "name": "python3"
  },
  "language_info": {
   "codemirror_mode": {
    "name": "ipython",
    "version": 3
   },
   "file_extension": ".py",
   "mimetype": "text/x-python",
   "name": "python",
   "nbconvert_exporter": "python",
   "pygments_lexer": "ipython3",
   "version": "3.5.1"
  }
 },
 "nbformat": 4,
 "nbformat_minor": 0
}
